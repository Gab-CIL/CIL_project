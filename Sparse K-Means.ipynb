{
 "cells": [
  {
   "cell_type": "code",
   "execution_count": 1,
   "metadata": {
    "collapsed": true
   },
   "outputs": [],
   "source": [
    "%matplotlib inline\n",
    "import os\n",
    "import random\n",
    "import sys\n",
    "import time\n",
    "import pickle\n",
    "import numpy as np\n",
    "import scipy.sparse as sp\n",
    "import matplotlib.pyplot as plt"
   ]
  },
  {
   "cell_type": "code",
   "execution_count": 2,
   "metadata": {
    "collapsed": false
   },
   "outputs": [],
   "source": [
    "M, N = 10000, 1000"
   ]
  },
  {
   "cell_type": "code",
   "execution_count": 3,
   "metadata": {
    "collapsed": false
   },
   "outputs": [],
   "source": [
    "try:\n",
    "    with open(\"data_train.pickle\", \"rb\") as file:\n",
    "        data, test = pickle.load(file)\n",
    "        \n",
    "except FileNotFoundError:\n",
    "    def parse_line(line):\n",
    "        coord, rating = line.split(',')\n",
    "        user, film = coord.split('_')\n",
    "        return (int(user[1:]), int(film[1:]), int(rating))\n",
    "\n",
    "    data = sp.lil_matrix((M, N))\n",
    "    test = sp.lil_matrix((M, N))\n",
    "    with open(\"data_train.csv\") as file:\n",
    "        file.__next__() # skip header\n",
    "        for line in file:\n",
    "            user, film, rating = parse_line(line)\n",
    "            if random.randrange(10) == 0:\n",
    "                test[user-1, film-1] = rating\n",
    "            else:\n",
    "                data[user-1, film-1] = rating\n",
    "\n",
    "    data = data.tocsr()\n",
    "    test = test.tocsr()\n",
    "    with open(\"data_train.pickle\", mode=\"bw\") as file:\n",
    "        pickle.dump((data, test), file)"
   ]
  },
  {
   "cell_type": "code",
   "execution_count": 6,
   "metadata": {
    "collapsed": false
   },
   "outputs": [
    {
     "data": {
      "text/plain": [
       "(None, <pyximport.pyximport.PyxImporter at 0x107b8d4a8>)"
      ]
     },
     "execution_count": 6,
     "metadata": {},
     "output_type": "execute_result"
    }
   ],
   "source": [
    "import pyximport\n",
    "pyximport.install(reload_support=True)"
   ]
  },
  {
   "cell_type": "code",
   "execution_count": 7,
   "metadata": {
    "collapsed": false
   },
   "outputs": [],
   "source": [
    "import skm"
   ]
  },
  {
   "cell_type": "code",
   "execution_count": 8,
   "metadata": {
    "collapsed": false
   },
   "outputs": [
    {
     "data": {
      "text/plain": [
       "(1.0018197001604618,\n",
       " array([[ 3.41176471,  2.85714286,  2.33858268, ...,  2.18181818,\n",
       "          3.5       ,  3.08333333],\n",
       "        [ 3.7       ,  3.75      ,  3.02352941, ...,  2.86206897,\n",
       "          3.2       ,  3.5       ],\n",
       "        [ 4.6       ,  3.66666667,  3.59459459, ...,  2.5       ,\n",
       "          5.        ,  3.75      ],\n",
       "        ..., \n",
       "        [ 3.52631579,  3.30434783,  3.25373134, ...,  2.68      ,\n",
       "          2.25      ,  3.5       ],\n",
       "        [ 4.3       ,  4.125     ,  3.4173913 , ...,  3.4375    ,\n",
       "          4.        ,  4.0952381 ],\n",
       "        [ 2.9375    ,  3.3       ,  3.53543307, ...,  2.66666667,\n",
       "          4.75      ,  4.        ]]),\n",
       " array([10,  6,  5, ...,  1,  6,  4], dtype=int32))"
      ]
     },
     "execution_count": 8,
     "metadata": {},
     "output_type": "execute_result"
    }
   ],
   "source": [
    "skm.k_means(data, test, K=12, tol=0.0001)"
   ]
  },
  {
   "cell_type": "code",
   "execution_count": null,
   "metadata": {
    "collapsed": true
   },
   "outputs": [],
   "source": []
  }
 ],
 "metadata": {
  "kernelspec": {
   "display_name": "Python 3",
   "language": "python",
   "name": "python3"
  },
  "language_info": {
   "codemirror_mode": {
    "name": "ipython",
    "version": 3
   },
   "file_extension": ".py",
   "mimetype": "text/x-python",
   "name": "python",
   "nbconvert_exporter": "python",
   "pygments_lexer": "ipython3",
   "version": "3.5.1"
  }
 },
 "nbformat": 4,
 "nbformat_minor": 0
}
