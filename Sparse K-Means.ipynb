{
 "cells": [
  {
   "cell_type": "code",
   "execution_count": 1,
   "metadata": {
    "collapsed": true
   },
   "outputs": [],
   "source": [
    "%matplotlib inline\n",
    "import os\n",
    "import random\n",
    "import sys\n",
    "import time\n",
    "import pickle\n",
    "import numpy as np\n",
    "import scipy.sparse as sp\n",
    "import matplotlib.pyplot as plt"
   ]
  },
  {
   "cell_type": "code",
   "execution_count": 2,
   "metadata": {
    "collapsed": false
   },
   "outputs": [],
   "source": [
    "M, N = 10000, 1000"
   ]
  },
  {
   "cell_type": "code",
   "execution_count": 35,
   "metadata": {
    "collapsed": false
   },
   "outputs": [],
   "source": [
    "try:\n",
    "    with open(\"data_train.pickle\", \"rb\") as file:\n",
    "        data, test = pickle.load(file)\n",
    "        \n",
    "except FileNotFoundError:\n",
    "    def parse_line(line):\n",
    "        coord, rating = line.split(',')\n",
    "        user, film = coord.split('_')\n",
    "        return (int(user[1:]), int(film[1:]), int(rating))\n",
    "\n",
    "    data = sp.lil_matrix((M, N))\n",
    "    test = sp.lil_matrix((M, N))\n",
    "    with open(\"data_train.csv\") as file:\n",
    "        file.__next__() # skip header\n",
    "        for line in file:\n",
    "            user, film, rating = parse_line(line)\n",
    "            if random.randrange(10) == 0:\n",
    "                test[user-1, film-1] = rating\n",
    "            else:\n",
    "                data[user-1, film-1] = rating\n",
    "\n",
    "    data = data.tocsr()\n",
    "    test = test.tocsr()\n",
    "    with open(\"data_train.pickle\", mode=\"bw\") as file:\n",
    "        pickle.dump((data, test), file)"
   ]
  },
  {
   "cell_type": "code",
   "execution_count": 19,
   "metadata": {
    "collapsed": false
   },
   "outputs": [],
   "source": [
    "#The slow version\n",
    "def k_means(data, test, K=10, tol=0.01, centroids=None):\n",
    "    M, N = data.shape\n",
    "    def get_assignments(centroids):\n",
    "        assignments = np.zeros(M, dtype=np.int32)\n",
    "        for user in range(M):\n",
    "            dists = np.linalg.norm(data[user] - data[user].sign().multiply(centroids), axis=1)\n",
    "            assignments[user] = np.argmin(dists)\n",
    "        return assignments\n",
    "    def get_centroids(assignments):\n",
    "        centroids = np.zeros((K, N))\n",
    "        counts = np.zeros((K, N))\n",
    "        for k in range(K):\n",
    "            centroids[k] = data[assignments == k].sum(0)\n",
    "            counts[k] = data[assignments == k].sign().sum(0)\n",
    "        counts[counts == 0] = 1\n",
    "        return centroids / counts\n",
    "    def rmse(test, guess):\n",
    "        diffs = test - test.sign().multiply(guess)\n",
    "        return np.sqrt(np.sum(np.square(diffs.data)) / diffs.nnz)\n",
    "    \n",
    "    err = 999\n",
    "    \n",
    "    if centroids is None:\n",
    "        centroids = np.random.rand(K, N) * 6 + 0.5\n",
    "    while True:\n",
    "        assignments = get_assignments(centroids)\n",
    "        centroids = get_centroids(assignments)\n",
    "        newerr = rmse(test, centroids[assignments])\n",
    "        print(rmse(data, centroids[assignments]), newerr)\n",
    "        if (err - newerr) / err < tol:\n",
    "            break\n",
    "        err = newerr\n",
    "    return err, centroids, assignments"
   ]
  },
  {
   "cell_type": "code",
   "execution_count": 6,
   "metadata": {
    "collapsed": false
   },
   "outputs": [
    {
     "data": {
      "text/plain": [
       "(None, <pyximport.pyximport.PyxImporter at 0x1096fa278>)"
      ]
     },
     "execution_count": 6,
     "metadata": {},
     "output_type": "execute_result"
    }
   ],
   "source": [
    "import pyximport\n",
    "pyximport.install(reload_support=True)"
   ]
  },
  {
   "cell_type": "code",
   "execution_count": 7,
   "metadata": {
    "collapsed": false
   },
   "outputs": [],
   "source": [
    "import skm"
   ]
  },
  {
   "cell_type": "code",
   "execution_count": 40,
   "metadata": {
    "collapsed": false
   },
   "outputs": [
    {
     "data": {
      "text/plain": [
       "1.0119077297787558"
      ]
     },
     "execution_count": 40,
     "metadata": {},
     "output_type": "execute_result"
    }
   ],
   "source": [
    "err, centroids, assignments = skm.k_means(data, test, K=6, tol=0.0001)\n",
    "err"
   ]
  },
  {
   "cell_type": "code",
   "execution_count": 42,
   "metadata": {
    "collapsed": false
   },
   "outputs": [
    {
     "data": {
      "text/plain": [
       "array([ 3.626703  ,  3.82683983,  3.24137931,  3.70652174,  3.26075949,\n",
       "        4.17274939])"
      ]
     },
     "execution_count": 42,
     "metadata": {},
     "output_type": "execute_result"
    }
   ],
   "source": [
    "centroids[:,9]"
   ]
  },
  {
   "cell_type": "code",
   "execution_count": 43,
   "metadata": {
    "collapsed": false
   },
   "outputs": [
    {
     "data": {
      "text/plain": [
       "5.0"
      ]
     },
     "execution_count": 43,
     "metadata": {},
     "output_type": "execute_result"
    }
   ],
   "source": [
    "data[0,9]"
   ]
  },
  {
   "cell_type": "code",
   "execution_count": null,
   "metadata": {
    "collapsed": false
   },
   "outputs": [],
   "source": [
    "plt.hist(data[:,9].data)"
   ]
  },
  {
   "cell_type": "code",
   "execution_count": null,
   "metadata": {
    "collapsed": true
   },
   "outputs": [],
   "source": []
  }
 ],
 "metadata": {
  "kernelspec": {
   "display_name": "Python 3",
   "language": "python",
   "name": "python3"
  },
  "language_info": {
   "codemirror_mode": {
    "name": "ipython",
    "version": 3
   },
   "file_extension": ".py",
   "mimetype": "text/x-python",
   "name": "python",
   "nbconvert_exporter": "python",
   "pygments_lexer": "ipython3",
   "version": "3.5.1"
  }
 },
 "nbformat": 4,
 "nbformat_minor": 0
}
